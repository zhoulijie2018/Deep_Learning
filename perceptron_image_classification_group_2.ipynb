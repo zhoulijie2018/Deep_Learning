{
  "cells": [
    {
      "cell_type": "markdown",
      "metadata": {
        "id": "view-in-github",
        "colab_type": "text"
      },
      "source": [
        "<a href=\"https://colab.research.google.com/github/zhoulijie2018/Deep_Learning/blob/main/perceptron_image_classification_group_2.ipynb\" target=\"_parent\"><img src=\"https://colab.research.google.com/assets/colab-badge.svg\" alt=\"Open In Colab\"/></a>"
      ]
    },
    {
      "cell_type": "code",
      "execution_count": null,
      "metadata": {
        "id": "YLRpMs5vR1R9"
      },
      "outputs": [],
      "source": [
        "#import packages\n",
        "import h5py\n",
        "import scipy\n",
        "import numpy as np\n",
        "from PIL import Image\n",
        "from scipy import ndimage\n",
        "import matplotlib.pyplot as plt"
      ]
    },
    {
      "cell_type": "code",
      "execution_count": null,
      "metadata": {
        "colab": {
          "background_save": true
        },
        "id": "MverSP_RotlL"
      },
      "outputs": [],
      "source": [
        "#Load local files\n",
        "from google.colab import files\n",
        "files.upload()"
      ]
    },
    {
      "cell_type": "code",
      "execution_count": 3,
      "metadata": {
        "id": "EgmgIB84otu4"
      },
      "outputs": [],
      "source": [
        "def load_dataset():\n",
        "    train_dataset = h5py.File('train_catvnoncat.h5', \"r\")\n",
        "    train_set_x_orig = np.array(train_dataset[\"train_set_x\"][:]) # train set features\n",
        "    train_set_y_orig = np.array(train_dataset[\"train_set_y\"][:]) # train set labels\n",
        "\n",
        "    test_dataset = h5py.File('test_catvnoncat.h5', \"r\")\n",
        "    test_set_x_orig = np.array(test_dataset[\"test_set_x\"][:]) # test set features\n",
        "    test_set_y_orig = np.array(test_dataset[\"test_set_y\"][:]) # test set labels\n",
        "\n",
        "    classes = np.array(test_dataset[\"list_classes\"][:]) # the list of classes\n",
        "    \n",
        "    train_set_y_orig = train_set_y_orig.reshape((1, train_set_y_orig.shape[0]))\n",
        "    test_set_y_orig = test_set_y_orig.reshape((1, test_set_y_orig.shape[0]))\n",
        "    \n",
        "    return train_set_x_orig, train_set_y_orig, test_set_x_orig, test_set_y_orig, classes"
      ]
    },
    {
      "cell_type": "code",
      "execution_count": 4,
      "metadata": {
        "id": "48cp40_TotyA"
      },
      "outputs": [],
      "source": [
        "# Loading the data (cat/non-cat)\n",
        "train_set_x_orig, train_set_y, test_set_x_orig, test_set_y, classes = load_dataset()"
      ]
    },
    {
      "cell_type": "code",
      "execution_count": 5,
      "metadata": {
        "colab": {
          "base_uri": "https://localhost:8080/",
          "height": 285
        },
        "id": "ex9YciMgot1q",
        "outputId": "a5186259-5169-4181-846a-b99f6ba047c9"
      },
      "outputs": [
        {
          "output_type": "stream",
          "name": "stdout",
          "text": [
            "y = [0], it's a 'non-cat' picture.\n"
          ]
        },
        {
          "output_type": "display_data",
          "data": {
            "text/plain": [
              "<Figure size 432x288 with 1 Axes>"
            ],
            "image/png": "[encoded data removed]"
          },
          "metadata": {
            "needs_background": "light"
          }
        }
      ],
      "source": [
        "# Example of a picture\n",
        "index = 10\n",
        "plt.imshow(train_set_x_orig[index])\n",
        "\n",
        "#Visualize an example\n",
        "print (\"y = \" + str(train_set_y[:,index]) + \", it's a '\" + classes[np.squeeze(train_set_y[:,index])].decode(\"utf-8\") +  \"' picture.\")"
      ]
    },
    {
      "cell_type": "code",
      "execution_count": 6,
      "metadata": {
        "colab": {
          "base_uri": "https://localhost:8080/"
        },
        "id": "Qv7brNIVsTxR",
        "outputId": "7c1418cf-5b0c-4eb6-b80c-567499388ff0"
      },
      "outputs": [
        {
          "output_type": "stream",
          "name": "stdout",
          "text": [
            "Number of training examples: m_train = 209\n",
            "Number of testing examples: m_test = 50\n",
            "Height/Width of each image: num_px = 64\n",
            "Each image is of size: (64, 64, 3)\n",
            "train_set_x shape: (209, 64, 64, 3)\n",
            "train_set_y shape: (1, 209)\n",
            "test_set_x shape: (50, 64, 64, 3)\n",
            "test_set_y shape: (1, 50)\n"
          ]
        }
      ],
      "source": [
        "m_train = train_set_y.shape[1]\n",
        "m_test = test_set_y.shape[1]\n",
        "num_px = train_set_x_orig.shape[1]\n",
        "\n",
        "print (\"Number of training examples: m_train = \" + str(m_train))\n",
        "print (\"Number of testing examples: m_test = \" + str(m_test))\n",
        "print (\"Height/Width of each image: num_px = \" + str(num_px))\n",
        "print (\"Each image is of size: (\" + str(num_px) + \", \" + str(num_px) + \", 3)\")\n",
        "print (\"train_set_x shape: \" + str(train_set_x_orig.shape))\n",
        "print (\"train_set_y shape: \" + str(train_set_y.shape))\n",
        "print (\"test_set_x shape: \" + str(test_set_x_orig.shape))\n",
        "print (\"test_set_y shape: \" + str(test_set_y.shape))"
      ]
    },
    {
      "cell_type": "code",
      "execution_count": 7,
      "metadata": {
        "colab": {
          "base_uri": "https://localhost:8080/"
        },
        "id": "pxsamD0xsT3h",
        "outputId": "733d7515-ae11-449e-8485-3a182b89921f"
      },
      "outputs": [
        {
          "output_type": "stream",
          "name": "stdout",
          "text": [
            "train_set_x_flatten shape: (12288, 209)\n",
            "train_set_y shape: (1, 209)\n",
            "test_set_x_flatten shape: (12288, 50)\n",
            "test_set_y shape: (1, 50)\n"
          ]
        }
      ],
      "source": [
        "# Reshape the training and test examples\n",
        "\n",
        "train_set_x_flatten = train_set_x_orig.reshape(train_set_x_orig.shape[0], -1).T\n",
        "test_set_x_flatten = test_set_x_orig.reshape(test_set_x_orig.shape[0], -1).T\n",
        "\n",
        "print (\"train_set_x_flatten shape: \" + str(train_set_x_flatten.shape))\n",
        "print (\"train_set_y shape: \" + str(train_set_y.shape))\n",
        "print (\"test_set_x_flatten shape: \" + str(test_set_x_flatten.shape))\n",
        "print (\"test_set_y shape: \" + str(test_set_y.shape))"
      ]
    },
    {
      "cell_type": "code",
      "execution_count": 8,
      "metadata": {
        "id": "Mr4HcXAYsT-L"
      },
      "outputs": [],
      "source": [
        "train_set_x = train_set_x_flatten / 255.\n",
        "test_set_x = test_set_x_flatten / 255."
      ]
    },
    {
      "cell_type": "markdown",
      "metadata": {
        "id": "4migThKstaNy"
      },
      "source": [
        "**Learning of Perceptron**"
      ]
    },
    {
      "cell_type": "code",
      "execution_count": 9,
      "metadata": {
        "id": "x6AzlpkNsUBI"
      },
      "outputs": [],
      "source": [
        "# Activation Function: sigmoid\n",
        "\n",
        "def sigmoid(z):\n",
        "    \"\"\"\n",
        "    Compute the sigmoid of z\n",
        "\n",
        "    Arguments:\n",
        "    x -- A scalar or numpy array of any size.\n",
        "\n",
        "    Return:\n",
        "    s -- sigmoid(z)\n",
        "    \"\"\"\n",
        "    \n",
        "    s = 1 / (1 + np.exp(-z))\n",
        "    \n",
        "    return s"
      ]
    },
    {
      "cell_type": "code",
      "execution_count": 10,
      "metadata": {
        "colab": {
          "base_uri": "https://localhost:8080/"
        },
        "id": "tuKwjFIGtmJq",
        "outputId": "290efcd6-f6da-4b4f-8160-cc93a2a6c625"
      },
      "outputs": [
        {
          "output_type": "stream",
          "name": "stdout",
          "text": [
            "sigmoid(0) = 0.5\n",
            "sigmoid(9.2) = 0.9998989708060922\n"
          ]
        }
      ],
      "source": [
        "# Testing sigmoid\n",
        "\n",
        "print (\"sigmoid(0) = \" + str(sigmoid(0)))\n",
        "print (\"sigmoid(9.2) = \" + str(sigmoid(9.2)))"
      ]
    },
    {
      "cell_type": "markdown",
      "metadata": {
        "id": "5ND1Aja1tpwa"
      },
      "source": [
        "**Initializing Parameters**"
      ]
    },
    {
      "cell_type": "code",
      "execution_count": 11,
      "metadata": {
        "id": "R2GcASUrtmO4"
      },
      "outputs": [],
      "source": [
        "# Initializing parameters: initialize_with_zeros\n",
        "\n",
        "def initialize_with_zeros(dim):\n",
        "    \"\"\"\n",
        "    This function creates a vector of zeros of shape (dim, 1) for w and initializes b to 0.\n",
        "    \n",
        "    Argument:\n",
        "    dim -- size of the w vector we want (or number of parameters in this case)\n",
        "    \n",
        "    Returns:\n",
        "    w -- initialized vector of shape (dim, 1)\n",
        "    b -- initialized scalar (corresponds to the bias)\n",
        "    \"\"\"\n",
        "\n",
        "    w = np.zeros(shape=(dim, 1))\n",
        "    b = 1\n",
        "    \n",
        "    return w, b"
      ]
    },
    {
      "cell_type": "code",
      "execution_count": 12,
      "metadata": {
        "colab": {
          "base_uri": "https://localhost:8080/"
        },
        "id": "-01iRZMStmRp",
        "outputId": "9b772741-0387-4628-e4ef-43026bac4496"
      },
      "outputs": [
        {
          "output_type": "stream",
          "name": "stdout",
          "text": [
            "w = [[0.]\n",
            " [0.]\n",
            " [0.]\n",
            " [0.]\n",
            " [0.]]\n",
            "b = 1\n"
          ]
        }
      ],
      "source": [
        "# Testing parameter initialization\n",
        "dim = 5\n",
        "w,b = initialize_with_zeros(dim)\n",
        "print (\"w = \" + str(w))\n",
        "print (\"b = \" + str(b))"
      ]
    },
    {
      "cell_type": "markdown",
      "metadata": {
        "id": "8u-iWDvCuZmL"
      },
      "source": [
        "**Forward and Backward propagation**"
      ]
    },
    {
      "cell_type": "code",
      "execution_count": 13,
      "metadata": {
        "id": "h8HGzO93tmTu"
      },
      "outputs": [],
      "source": [
        "# Propagation\n",
        "\n",
        "def propagate(w, b, X, Y):\n",
        "    \"\"\"\n",
        "    Implement the loss function and its gradient for the propagation\n",
        "\n",
        "    Arguments:\n",
        "    w -- weights, a numpy array of size (num_px * num_px * 3, 1)\n",
        "    b -- bias, a scalar\n",
        "    X -- data of size (num_px * num_px * 3, number of examples)\n",
        "    Y -- true \"label\" vector (containing 0 if non-cat, 1 if cat) of size (1, number of examples)\n",
        "\n",
        "    Return:\n",
        "    loss -- negative log-likelihood loss for logistic regression\n",
        "    dw -- gradient of the loss with respect to w, thus same shape as w\n",
        "    db -- gradient of the loss with respect to b, thus same shape as b\n",
        "    \n",
        "    Tips:\n",
        "    - Write your code step by step for the propagation\n",
        "    \"\"\"\n",
        "    \n",
        "    m = X.shape[1]\n",
        "    \n",
        "    # FORWARD PROPAGATION (FROM X TO LOSS)\n",
        "    A = sigmoid(np.dot(w.T, X) + b)  # compute activation\n",
        "    loss = (1.0 / m) * np.sum((Y - A)*(Y - A))   # compute loss\n",
        "    \n",
        "    # BACKWARD PROPAGATION (TO FIND GRAD)\n",
        "    Z1 = np.dot(A, (1 - A).T)\n",
        "    Z2 = np.dot(X, (Y - A).T)\n",
        "    dw = (-2.0 / m) * (Z1*Z2)\n",
        "    db = (-2.0 / m) * np.sum(Z1*(Y - A))\n",
        "\n",
        "    assert(dw.shape == w.shape)\n",
        "    assert(db.dtype == float)\n",
        "    loss = np.squeeze(loss)\n",
        "    assert(loss.shape == ())\n",
        "    \n",
        "    #gradient dictionary\n",
        "    grads = {\"dw\": dw,\n",
        "             \"db\": db}\n",
        "    \n",
        "    return grads, loss# Propagation"
      ]
    },
    {
      "cell_type": "code",
      "execution_count": 14,
      "metadata": {
        "colab": {
          "base_uri": "https://localhost:8080/"
        },
        "id": "r4Rj-7wxuGDT",
        "outputId": "aa30431a-658e-449b-f89e-2ceb0de665fc"
      },
      "outputs": [
        {
          "output_type": "stream",
          "name": "stdout",
          "text": [
            "dw = [[1.11578746e-09]\n",
            " [1.67368119e-09]]\n",
            "db = 5.578937307454209e-10\n",
            "loss = 0.49999999972105313\n"
          ]
        }
      ],
      "source": [
        "w, b, X, Y = np.array([[3], [5]]), 1, np.array([[2,2], [3,3]]), np.array([[0, 1]])\n",
        "grads, loss = propagate(w, b, X, Y)\n",
        "print (\"dw = \" + str(grads[\"dw\"]))\n",
        "print (\"db = \" + str(grads[\"db\"]))\n",
        "print (\"loss = \" + str(loss))"
      ]
    },
    {
      "cell_type": "markdown",
      "metadata": {
        "id": "ENB5flosuNLE"
      },
      "source": [
        "**Optimization**"
      ]
    },
    {
      "cell_type": "code",
      "execution_count": 15,
      "metadata": {
        "id": "zCkW-ziTuKqC"
      },
      "outputs": [],
      "source": [
        "# Optimization\n",
        "\n",
        "def optimize(w, b, X, Y, num_iterations, learning_rate, print_loss = False):\n",
        "    \"\"\"\n",
        "    This function optimizes w and b by running a gradient descent algorithm\n",
        "    \n",
        "    Arguments:\n",
        "    w -- weights, a numpy array of size (num_px * num_px * 3, 1)\n",
        "    b -- bias, a scalar\n",
        "    X -- data of shape (num_px * num_px * 3, number of examples)\n",
        "    Y -- true \"label\" vector (containing 0 if non-cat, 1 if cat), of shape (1, number of examples)\n",
        "    num_iterations -- number of iterations of the optimization loop\n",
        "    learning_rate -- learning rate of the gradient descent update rule\n",
        "    print_loss -- True to print the loss every 100 steps\n",
        "    \n",
        "    Returns:\n",
        "    params -- dictionary containing the weights w and bias b\n",
        "    grads -- dictionary containing the gradients of the weights and bias with respect to the loss function\n",
        "    loss -- list of all the loss computed during the optimization, this will be used to plot the learning curve.\n",
        "    \n",
        "    Tips:\n",
        "        1) Calculate the loss and the gradient for the current parameters. Use propagate().\n",
        "        2) Update the parameters using gradient descent rule for w and b.\n",
        "    \"\"\"\n",
        "    \n",
        "    losses = []\n",
        "    \n",
        "    for i in range(num_iterations):\n",
        "        \n",
        "        \n",
        "        # Loss and gradient calculation (≈ 1-4 lines of code)\n",
        "        grads, loss = propagate(w, b, X, Y)\n",
        "        \n",
        "        # Retrieve derivatives from grads\n",
        "        dw = grads[\"dw\"]\n",
        "        db = grads[\"db\"]\n",
        "        \n",
        "        # update rule (≈ 2 lines of code)\n",
        "        #print(dw)\n",
        "        #print (db)\n",
        "        w = w - learning_rate * dw  # need to broadcast\n",
        "        b = b - learning_rate * db\n",
        "        \n",
        "        # Record the losses\n",
        "        if i % 100 == 0:\n",
        "            losses.append(loss)\n",
        "        \n",
        "        # Print the loss every 100 training examples\n",
        "        if print_loss and i % 100 == 0:\n",
        "            print (\"Loss after iteration %i: %f\" % (i, loss))\n",
        "    \n",
        "    params = {\"w\": w,\n",
        "              \"b\": b}\n",
        "    \n",
        "    grads = {\"dw\": dw,\n",
        "             \"db\": db}\n",
        "    \n",
        "    return params, grads, losses"
      ]
    },
    {
      "cell_type": "code",
      "execution_count": 16,
      "metadata": {
        "colab": {
          "base_uri": "https://localhost:8080/"
        },
        "id": "zx21-mdXulIZ",
        "outputId": "2cf57948-3eba-4782-f4ca-5b06e09958d9"
      },
      "outputs": [
        {
          "output_type": "stream",
          "name": "stdout",
          "text": [
            "w = [[3.]\n",
            " [5.]]\n",
            "b = 0.9999999994421018\n",
            "dw = [[1.11578746e-09]\n",
            " [1.67368119e-09]]\n",
            "db = 5.578937307454209e-10\n"
          ]
        }
      ],
      "source": [
        "params, grads, losses = optimize(w, b, X, Y, num_iterations= 100, learning_rate = 0.01, print_loss = False)\n",
        "\n",
        "print (\"w = \" + str(params[\"w\"]))\n",
        "print (\"b = \" + str(params[\"b\"]))\n",
        "print (\"dw = \" + str(grads[\"dw\"]))\n",
        "print (\"db = \" + str(grads[\"db\"]))"
      ]
    },
    {
      "cell_type": "markdown",
      "metadata": {
        "id": "95vjGp_Hun16"
      },
      "source": [
        "**Prediction**"
      ]
    },
    {
      "cell_type": "code",
      "execution_count": 17,
      "metadata": {
        "id": "vO2ChSnium7p"
      },
      "outputs": [],
      "source": [
        "# Predict\n",
        "\n",
        "def predict(w, b, X):\n",
        "    '''\n",
        "    Predict whether the label is 0 or 1 using learned logistic regression parameters (w, b)\n",
        "    \n",
        "    Arguments:\n",
        "    w -- weights, a numpy array of size (num_px * num_px * 3, 1)\n",
        "    b -- bias, a scalar\n",
        "    X -- data of size (num_px * num_px * 3, number of examples)\n",
        "    \n",
        "    Returns:\n",
        "    Y_prediction -- a numpy array (vector) containing all predictions (0/1) for the examples in X\n",
        "    '''\n",
        "    \n",
        "    m = X.shape[1]\n",
        "    Y_prediction = np.zeros((1, m))\n",
        "    w = w.reshape(X.shape[0], 1)\n",
        "    \n",
        "    # Compute vector \"A\" predicting the probabilities of a cat being present in the picture\n",
        "    A = sigmoid(np.dot(w.T, X) + b)\n",
        "    \n",
        "    for i in range(A.shape[1]):\n",
        "        # Convert probabilities a[0,i] to actual predictions p[0,i]\n",
        "        Y_prediction[0, i] = 1 if A[0, i] > 0.5 else 0\n",
        "    \n",
        "    assert(Y_prediction.shape == (1, m))\n",
        "    \n",
        "    return Y_prediction"
      ]
    },
    {
      "cell_type": "code",
      "execution_count": 18,
      "metadata": {
        "colab": {
          "base_uri": "https://localhost:8080/"
        },
        "id": "q06D92TQum-Z",
        "outputId": "615ae4cf-960d-4438-b829-703d3f4bc240"
      },
      "outputs": [
        {
          "output_type": "stream",
          "name": "stdout",
          "text": [
            "predictions = [[1. 1.]]\n"
          ]
        }
      ],
      "source": [
        "print(\"predictions = \" + str(predict(w, b, X)))"
      ]
    },
    {
      "cell_type": "markdown",
      "metadata": {
        "id": "-Mu2a7Jsu2N1"
      },
      "source": [
        "**Model**"
      ]
    },
    {
      "cell_type": "code",
      "execution_count": 19,
      "metadata": {
        "id": "YKk5Znd7unAv"
      },
      "outputs": [],
      "source": [
        "# Model\n",
        "\n",
        "def model(X_train, Y_train, X_test, Y_test, num_iterations=2000, learning_rate=0.01, print_loss=False):\n",
        "    \"\"\"\n",
        "    Builds the logistic regression model by calling the function you've implemented previously\n",
        "    \n",
        "    Arguments:\n",
        "    X_train -- training set represented by a numpy array of shape (num_px * num_px * 3, m_train)\n",
        "    Y_train -- training labels represented by a numpy array (vector) of shape (1, m_train)\n",
        "    X_test -- test set represented by a numpy array of shape (num_px * num_px * 3, m_test)\n",
        "    Y_test -- test labels represented by a numpy array (vector) of shape (1, m_test)\n",
        "    num_iterations -- hyperparameter representing the number of iterations to optimize the parameters\n",
        "    learning_rate -- hyperparameter representing the learning rate used in the update rule of optimize()\n",
        "    print_loss -- Set to true to print the loss every 100 iterations\n",
        "    \n",
        "    Returns:\n",
        "    d -- dictionary containing information about the model.\n",
        "    \"\"\"\n",
        "    \n",
        "    # initialize parameters with zeros (≈ 1 line of code)\n",
        "    w, b = initialize_with_zeros(X_train.shape[0])\n",
        "\n",
        "    # Gradient descent (≈ 1 line of code)\n",
        "    parameters, grads, losses = optimize(w, b, X_train, Y_train, num_iterations, learning_rate, print_loss)\n",
        "    \n",
        "    # Retrieve parameters w and b from dictionary \"parameters\"\n",
        "    w = parameters[\"w\"]\n",
        "    b = parameters[\"b\"]\n",
        "    \n",
        "    # Predict test/train set examples (≈ 2 lines of code)\n",
        "    Y_prediction_test = predict(w, b, X_test)\n",
        "    Y_prediction_train = predict(w, b, X_train)\n",
        "\n",
        "\n",
        "    # Print train/test Errors\n",
        "    print(\"train accuracy: {} %\".format(100 - np.mean(np.abs(Y_prediction_train - Y_train)) * 100))\n",
        "    print(\"test accuracy: {} %\".format(100 - np.mean(np.abs(Y_prediction_test - Y_test)) * 100))\n",
        "\n",
        "    \n",
        "    d = {\"losses\": losses,\n",
        "         \"Y_prediction_test\": Y_prediction_test, \n",
        "         \"Y_prediction_train\" : Y_prediction_train, \n",
        "         \"w\" : w, \n",
        "         \"b\" : b,\n",
        "         \"learning_rate\" : learning_rate,\n",
        "         \"num_iterations\": num_iterations}\n",
        "    \n",
        "    return d"
      ]
    },
    {
      "cell_type": "markdown",
      "metadata": {
        "id": "vUYNyEkIu8n6"
      },
      "source": [
        "**Train the model**"
      ]
    },
    {
      "cell_type": "code",
      "execution_count": 30,
      "metadata": {
        "colab": {
          "base_uri": "https://localhost:8080/"
        },
        "id": "s6mcXPLTu0rq",
        "outputId": "c4ba5685-f2ce-4d51-fbec-26c13ee81f79"
      },
      "outputs": [
        {
          "output_type": "stream",
          "name": "stdout",
          "text": [
            "Loss after iteration 0: 0.375248\n",
            "Loss after iteration 100: 0.344498\n",
            "Loss after iteration 200: 0.344498\n",
            "Loss after iteration 300: 0.344498\n",
            "Loss after iteration 400: 0.344498\n",
            "Loss after iteration 500: 0.344498\n",
            "Loss after iteration 600: 0.344498\n",
            "Loss after iteration 700: 0.344498\n",
            "Loss after iteration 800: 0.344498\n",
            "Loss after iteration 900: 0.344498\n",
            "Loss after iteration 1000: 0.344498\n",
            "Loss after iteration 1100: 0.344498\n",
            "Loss after iteration 1200: 0.344498\n",
            "Loss after iteration 1300: 0.344498\n",
            "Loss after iteration 1400: 0.344498\n",
            "Loss after iteration 1500: 0.344498\n",
            "Loss after iteration 1600: 0.344498\n",
            "Loss after iteration 1700: 0.344498\n",
            "Loss after iteration 1800: 0.344498\n",
            "Loss after iteration 1900: 0.344498\n",
            "train accuracy: 65.55023923444976 %\n",
            "test accuracy: 34.0 %\n"
          ]
        }
      ],
      "source": [
        "d = model(train_set_x, train_set_y, test_set_x, test_set_y, num_iterations = 2000, learning_rate = 0.001, print_loss = True)"
      ]
    },
    {
      "cell_type": "code",
      "execution_count": 31,
      "metadata": {
        "colab": {
          "base_uri": "https://localhost:8080/",
          "height": 285
        },
        "id": "5eNq1dYXu0uU",
        "outputId": "c39a17bb-f51c-4212-a867-f3069b371b8f"
      },
      "outputs": [
        {
          "output_type": "stream",
          "name": "stdout",
          "text": [
            "Label is 1, Prediction is 0\n"
          ]
        },
        {
          "output_type": "display_data",
          "data": {
            "text/plain": [
              "<Figure size 432x288 with 1 Axes>"
            ],
            "image/png": "[encoded data removed]"
          },
          "metadata": {
            "needs_background": "light"
          }
        }
      ],
      "source": [
        "# Example of a picture that was wrongly classified.\n",
        "index = 25\n",
        "plt.imshow(test_set_x[:,index].reshape((num_px, num_px, 3)))\n",
        "print (\"Label is \" + str(test_set_y[0][index]) + \", Prediction is \" + str(int(d[\"Y_prediction_test\"][0][index])) )"
      ]
    },
    {
      "cell_type": "code",
      "execution_count": 32,
      "metadata": {
        "colab": {
          "base_uri": "https://localhost:8080/",
          "height": 295
        },
        "id": "9xYJjqc7vGQi",
        "outputId": "646e2251-18ed-4e4b-eb82-8d4d91b693c7"
      },
      "outputs": [
        {
          "output_type": "display_data",
          "data": {
            "text/plain": [
              "<Figure size 432x288 with 1 Axes>"
            ],
            "image/png": "[encoded data removed]"
          },
          "metadata": {
            "needs_background": "light"
          }
        }
      ],
      "source": [
        "# Plot learning curve (with losses)\n",
        "losses = np.squeeze(d['losses'])\n",
        "plt.plot(losses)\n",
        "plt.ylabel('loss')\n",
        "plt.xlabel('iterations (per hundreds)')\n",
        "plt.title(\"Learning rate =\" + str(d[\"learning_rate\"]))\n",
        "plt.show()"
      ]
    },
    {
      "cell_type": "code",
      "source": [
        "d2 = model(train_set_x, train_set_y, test_set_x, test_set_y, num_iterations = 2000, learning_rate = 0.001, print_loss = True)\n",
        "d3 = model(train_set_x, train_set_y, test_set_x, test_set_y, num_iterations = 2000, learning_rate = 0.0001, print_loss = True)\n",
        "d4 = model(train_set_x, train_set_y, test_set_x, test_set_y, num_iterations = 2000, learning_rate = 0.00001, print_loss = True)"
      ],
      "metadata": {
        "colab": {
          "base_uri": "https://localhost:8080/"
        },
        "id": "NKMf3OBSgKdt",
        "outputId": "f5ec11af-af48-4bc4-9ea1-f1813a67f49d"
      },
      "execution_count": 33,
      "outputs": [
        {
          "output_type": "stream",
          "name": "stdout",
          "text": [
            "Loss after iteration 0: 0.375248\n",
            "Loss after iteration 100: 0.344498\n",
            "Loss after iteration 200: 0.344498\n",
            "Loss after iteration 300: 0.344498\n",
            "Loss after iteration 400: 0.344498\n",
            "Loss after iteration 500: 0.344498\n",
            "Loss after iteration 600: 0.344498\n",
            "Loss after iteration 700: 0.344498\n",
            "Loss after iteration 800: 0.344498\n",
            "Loss after iteration 900: 0.344498\n",
            "Loss after iteration 1000: 0.344498\n",
            "Loss after iteration 1100: 0.344498\n",
            "Loss after iteration 1200: 0.344498\n",
            "Loss after iteration 1300: 0.344498\n",
            "Loss after iteration 1400: 0.344498\n",
            "Loss after iteration 1500: 0.344498\n",
            "Loss after iteration 1600: 0.344498\n",
            "Loss after iteration 1700: 0.344498\n",
            "Loss after iteration 1800: 0.344498\n",
            "Loss after iteration 1900: 0.344498\n",
            "train accuracy: 65.55023923444976 %\n",
            "test accuracy: 34.0 %\n",
            "Loss after iteration 0: 0.375248\n",
            "Loss after iteration 100: 0.292494\n",
            "Loss after iteration 200: 0.160958\n",
            "Loss after iteration 300: 0.176758\n",
            "Loss after iteration 400: 0.128701\n",
            "Loss after iteration 500: 0.093244\n",
            "Loss after iteration 600: 0.066415\n",
            "Loss after iteration 700: 0.058999\n",
            "Loss after iteration 800: 0.053342\n",
            "Loss after iteration 900: 0.048701\n",
            "Loss after iteration 1000: 0.044812\n",
            "Loss after iteration 1100: 0.041500\n",
            "Loss after iteration 1200: 0.038642\n",
            "Loss after iteration 1300: 0.036147\n",
            "Loss after iteration 1400: 0.033949\n",
            "Loss after iteration 1500: 0.031998\n",
            "Loss after iteration 1600: 0.030254\n",
            "Loss after iteration 1700: 0.028685\n",
            "Loss after iteration 1800: 0.027266\n",
            "Loss after iteration 1900: 0.025978\n",
            "train accuracy: 99.04306220095694 %\n",
            "test accuracy: 72.0 %\n",
            "Loss after iteration 0: 0.375248\n",
            "Loss after iteration 100: 0.210535\n",
            "Loss after iteration 200: 0.194699\n",
            "Loss after iteration 300: 0.183269\n",
            "Loss after iteration 400: 0.174008\n",
            "Loss after iteration 500: 0.166138\n",
            "Loss after iteration 600: 0.159265\n",
            "Loss after iteration 700: 0.153153\n",
            "Loss after iteration 800: 0.147647\n",
            "Loss after iteration 900: 0.142640\n",
            "Loss after iteration 1000: 0.138052\n",
            "Loss after iteration 1100: 0.133824\n",
            "Loss after iteration 1200: 0.129907\n",
            "Loss after iteration 1300: 0.126263\n",
            "Loss after iteration 1400: 0.122861\n",
            "Loss after iteration 1500: 0.119674\n",
            "Loss after iteration 1600: 0.116681\n",
            "Loss after iteration 1700: 0.113861\n",
            "Loss after iteration 1800: 0.111199\n",
            "Loss after iteration 1900: 0.108681\n",
            "train accuracy: 88.99521531100478 %\n",
            "test accuracy: 62.0 %\n"
          ]
        }
      ]
    },
    {
      "cell_type": "code",
      "source": [],
      "metadata": {
        "id": "UJW2FpAkhCDs"
      },
      "execution_count": null,
      "outputs": []
    },
    {
      "cell_type": "code",
      "source": [
        "# Plot learning curve (with losses)\n",
        "losses = np.squeeze(d2['losses'])\n",
        "plt.plot(losses)\n",
        "plt.ylabel('loss')\n",
        "plt.xlabel('iterations (per hundreds)')\n",
        "plt.title(\"Learning rate =\" + str(d2[\"learning_rate\"]))\n",
        "plt.show()\n",
        "\n",
        "# Plot learning curve (with losses)\n",
        "losses = np.squeeze(d3['losses'])\n",
        "plt.plot(losses)\n",
        "plt.ylabel('loss')\n",
        "plt.xlabel('iterations (per hundreds)')\n",
        "plt.title(\"Learning rate =\" + str(d3[\"learning_rate\"]))\n",
        "plt.show()\n",
        "\n",
        "# Plot learning curve (with losses)\n",
        "losses = np.squeeze(d4['losses'])\n",
        "plt.plot(losses)\n",
        "plt.ylabel('loss')\n",
        "plt.xlabel('iterations (per hundreds)')\n",
        "plt.title(\"Learning rate =\" + str(d4[\"learning_rate\"]))\n",
        "plt.show()"
      ],
      "metadata": {
        "colab": {
          "base_uri": "https://localhost:8080/",
          "height": 851
        },
        "id": "i-F6UYssgpjm",
        "outputId": "f7080c5b-ff91-4500-e8c3-b6ee549804fd"
      },
      "execution_count": 34,
      "outputs": [
        {
          "output_type": "display_data",
          "data": {
            "text/plain": [
              "<Figure size 432x288 with 1 Axes>"
            ],
            "image/png": "[encoded data removed]"
          },
          "metadata": {
            "needs_background": "light"
          }
        },
        {
          "output_type": "display_data",
          "data": {
            "text/plain": [
              "<Figure size 432x288 with 1 Axes>"
            ],
            "image/png": "[encoded data removed]"
          },
          "metadata": {
            "needs_background": "light"
          }
        },
        {
          "output_type": "display_data",
          "data": {
            "text/plain": [
              "<Figure size 432x288 with 1 Axes>"
            ],
            "image/png": "[encoded data removed]"
          },
          "metadata": {
            "needs_background": "light"
          }
        }
      ]
    }
  ],
  "metadata": {
    "colab": {
      "provenance": [],
      "authorship_tag": "ABX9TyPYZ4GasxYDmqbyOhsEOpgd",
      "include_colab_link": true
    },
    "kernelspec": {
      "display_name": "Python 3",
      "name": "python3"
    },
    "language_info": {
      "name": "python"
    }
  },
  "nbformat": 4,
  "nbformat_minor": 0
}